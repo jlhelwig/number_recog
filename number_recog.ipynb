{
 "cells": [
  {
   "cell_type": "markdown",
   "id": "5025790b-026a-4215-b767-b2e659bbee95",
   "metadata": {},
   "source": [
    "My First Code"
   ]
  },
  {
   "cell_type": "code",
   "execution_count": 138,
   "id": "97adf2e5-52bf-42bd-8523-59fb8017e0dd",
   "metadata": {},
   "outputs": [],
   "source": [
    "import tensorflow as tf\n",
    "#graph = tf.get_default_graph()\n",
    "import pandas as pd\n",
    "import matplotlib.pyplot as plt\n",
    "import numpy as np\n",
    "from tensorflow.keras.models import Sequential\n",
    "from tensorflow.keras.layers import Dense, Flatten\n",
    "from tensorflow.keras.activations import linear, relu, sigmoid, softmax\n"
   ]
  },
  {
   "cell_type": "code",
   "execution_count": 139,
   "id": "f560e5b2-95a8-4033-a8bc-79caca0746dc",
   "metadata": {},
   "outputs": [],
   "source": [
    "mnist = tf.keras.datasets.mnist\n",
    "(X_train, y_train), (X_test, y_test) = mnist.load_data()\n"
   ]
  },
  {
   "cell_type": "code",
   "execution_count": 140,
   "id": "bc981249-67d6-4405-9010-b32c70ee7778",
   "metadata": {},
   "outputs": [],
   "source": [
    "X_train = tf.keras.utils.normalize(X_train, axis = 1)\n",
    "X_test = tf.keras.utils.normalize(X_test, axis = 1)\n"
   ]
  },
  {
   "cell_type": "code",
   "execution_count": 142,
   "id": "f077c9ef-77ac-4306-a1d8-454971e2bb3d",
   "metadata": {},
   "outputs": [
    {
     "name": "stdout",
     "output_type": "stream",
     "text": [
      "Model: \"sequential_13\"\n",
      "_________________________________________________________________\n",
      " Layer (type)                Output Shape              Param #   \n",
      "=================================================================\n",
      " flatten_13 (Flatten)        (None, 784)               0         \n",
      "                                                                 \n",
      " dense_40 (Dense)            (None, 64)                50240     \n",
      "                                                                 \n",
      " dense_41 (Dense)            (None, 32)                2080      \n",
      "                                                                 \n",
      " dense_42 (Dense)            (None, 10)                330       \n",
      "                                                                 \n",
      "=================================================================\n",
      "Total params: 52650 (205.66 KB)\n",
      "Trainable params: 52650 (205.66 KB)\n",
      "Non-trainable params: 0 (0.00 Byte)\n",
      "_________________________________________________________________\n"
     ]
    }
   ],
   "source": [
    "# model = tf.keras.models.Sequential()\n",
    "# model.add(tf.keras.layers.Flatten(input_shape = (28, 28)))\n",
    "# model.add(tf.keras.layers.Dense(128, activation = \"relu\"))\n",
    "# model.add(tf.keras.layers.Dense(64, activation = \"relu\"))\n",
    "# model.add(tf.keras.layers.Dense(10, activation = \"softmax\"))\n",
    "\n",
    "# model.summary()\n",
    "\n",
    "model = Sequential([\n",
    "    Flatten(input_shape=(28, 28)),  # Flatten layer for 2D input\n",
    "    Dense(64, activation=\"relu\"),\n",
    "    Dense(32, activation=\"relu\"),\n",
    "    Dense(10, activation=\"softmax\")\n",
    "])\n",
    "\n",
    "model.summary()\n",
    "        "
   ]
  },
  {
   "cell_type": "code",
   "execution_count": 143,
   "id": "e333f163-79af-410a-b280-ed032a5fb28d",
   "metadata": {},
   "outputs": [],
   "source": [
    "model.compile(optimizer= 'adam', loss= 'sparse_categorical_crossentropy', metrics= ['accuracy'])"
   ]
  },
  {
   "cell_type": "code",
   "execution_count": 144,
   "id": "1c647d33-9a71-4452-8d2f-ea697f7271d5",
   "metadata": {},
   "outputs": [
    {
     "name": "stdout",
     "output_type": "stream",
     "text": [
      "Epoch 1/3\n",
      "1875/1875 [==============================] - 3s 1ms/step - loss: 0.3328 - accuracy: 0.9054\n",
      "Epoch 2/3\n",
      "1875/1875 [==============================] - 3s 1ms/step - loss: 0.1555 - accuracy: 0.9534\n",
      "Epoch 3/3\n",
      "1875/1875 [==============================] - 3s 1ms/step - loss: 0.1115 - accuracy: 0.9655\n"
     ]
    },
    {
     "data": {
      "text/plain": [
       "<keras.src.callbacks.History at 0x13cd6e30790>"
      ]
     },
     "execution_count": 144,
     "metadata": {},
     "output_type": "execute_result"
    }
   ],
   "source": [
    "# fitting model\n",
    "model.fit(X_train, y_train, epochs= 3)\n"
   ]
  },
  {
   "cell_type": "code",
   "execution_count": 87,
   "id": "d0fa8619-9da9-4d81-901b-84c02b6eccda",
   "metadata": {},
   "outputs": [
    {
     "name": "stdout",
     "output_type": "stream",
     "text": [
      "313/313 [==============================] - 0s 1ms/step - loss: 0.0918 - accuracy: 0.9698\n"
     ]
    }
   ],
   "source": [
    "# evaluate\n",
    "loss, accuracy = model.evaluate(X_test, y_test)\n"
   ]
  },
  {
   "cell_type": "code",
   "execution_count": 3,
   "id": "98aa4a67-f3ff-4577-9cc2-c2a7ab0363b4",
   "metadata": {},
   "outputs": [],
   "source": [
    "#(X_test, y_test)\n",
    "# print (\"the shape of X_test is: \" + str(X_test.shape))\n",
    "# print (\"the shape of y_test is: \" + str(y_test.shape))\n",
    "#print (y_test[0])\n",
    "#print (X_test[0])"
   ]
  },
  {
   "cell_type": "code",
   "execution_count": 4,
   "id": "e80bd8ec-b09f-4628-9893-d31514137762",
   "metadata": {},
   "outputs": [],
   "source": [
    "# def display_images(images, labels, num_images=100):\n",
    "#     # Set the number of images per row\n",
    "#     num_rows = 10\n",
    "#     num_cols = num_images // num_rows\n",
    "    \n",
    "#     # Set up the matplotlib figure and axes\n",
    "#     fig, axes = plt.subplots(num_rows, num_cols, figsize=(num_cols * 2, num_rows * 2))\n",
    "#     axes = axes.flatten()\n",
    "    \n",
    "#     for i in range(num_images):\n",
    "#         ax = axes[i]\n",
    "#         ax.imshow(images[i], cmap='gray')\n",
    "#         ax.set_title(f'Label: {labels[i]}')\n",
    "#         ax.axis('off')\n",
    "    \n",
    "#     # Adjust the layout\n",
    "#     plt.tight_layout()\n",
    "#     plt.show()\n",
    "\n",
    "# # Call the function to display the first 100 images and their labels\n",
    "# display_images(X_test, y_test)"
   ]
  },
  {
   "cell_type": "code",
   "execution_count": null,
   "id": "1cf0f46e-0a03-40ab-9b3b-a91222bd3bd8",
   "metadata": {},
   "outputs": [],
   "source": []
  },
  {
   "cell_type": "code",
   "execution_count": null,
   "id": "97e82f4d-b868-4740-ac0d-2dc06fbf0f93",
   "metadata": {},
   "outputs": [],
   "source": []
  }
 ],
 "metadata": {
  "kernelspec": {
   "display_name": "Python 3 (ipykernel)",
   "language": "python",
   "name": "python3"
  },
  "language_info": {
   "codemirror_mode": {
    "name": "ipython",
    "version": 3
   },
   "file_extension": ".py",
   "mimetype": "text/x-python",
   "name": "python",
   "nbconvert_exporter": "python",
   "pygments_lexer": "ipython3",
   "version": "3.11.8"
  }
 },
 "nbformat": 4,
 "nbformat_minor": 5
}
